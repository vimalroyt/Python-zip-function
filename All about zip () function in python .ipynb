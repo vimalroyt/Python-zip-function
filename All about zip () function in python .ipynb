{
 "cells": [
  {
   "cell_type": "raw",
   "id": "706bbd9c-0eae-4840-837f-3c9d7fe88aa5",
   "metadata": {},
   "source": [
    "Suppose zip in python just like a zip of your jeans, which meger two different zips together.."
   ]
  },
  {
   "cell_type": "code",
   "execution_count": 2,
   "id": "a2ff9d47-83c6-4136-91f4-8b24bbf3fbbd",
   "metadata": {},
   "outputs": [],
   "source": [
    "names=['Naveen','Saleem','Adrash']\n",
    "company=['Dell','Hp','Microsoft']"
   ]
  },
  {
   "cell_type": "code",
   "execution_count": 3,
   "id": "ccb2ead2-ce27-4f44-a2f0-c3e91c286fba",
   "metadata": {},
   "outputs": [
    {
     "data": {
      "text/plain": [
       "<zip at 0x1e2c5cd7b40>"
      ]
     },
     "execution_count": 3,
     "metadata": {},
     "output_type": "execute_result"
    }
   ],
   "source": [
    "zip(names,company)"
   ]
  },
  {
   "cell_type": "markdown",
   "id": "d1366a86-b0c1-4867-8062-f36f22e35961",
   "metadata": {},
   "source": [
    "indicates the creation of a zip object"
   ]
  },
  {
   "cell_type": "markdown",
   "id": "ee89d675-c589-4bc8-a525-09c4366c9ade",
   "metadata": {},
   "source": [
    "## Attention, here we zipped two lists together"
   ]
  },
  {
   "cell_type": "code",
   "execution_count": 4,
   "id": "9fe2407f-a691-4283-ac92-8022d0999efb",
   "metadata": {},
   "outputs": [
    {
     "name": "stdout",
     "output_type": "stream",
     "text": [
      "<zip object at 0x000001E2C5CF6000>\n"
     ]
    }
   ],
   "source": [
    "# let's store it into a variable\n",
    "\n",
    "zipped=zip(names,company)\n",
    "print(zipped)"
   ]
  },
  {
   "cell_type": "markdown",
   "id": "150a9ff9-01cb-4747-9ecc-079da356534a",
   "metadata": {},
   "source": [
    "representation of a zip object"
   ]
  },
  {
   "cell_type": "markdown",
   "id": "d05949e4-1c7f-476a-bad1-e54f72e1825c",
   "metadata": {},
   "source": [
    "# Now this created zip you want to get return as nested list then"
   ]
  },
  {
   "cell_type": "code",
   "execution_count": 5,
   "id": "3f357392-ef24-44ee-af0c-0b45617ede73",
   "metadata": {},
   "outputs": [
    {
     "name": "stdout",
     "output_type": "stream",
     "text": [
      "[('Naveen', 'Dell'), ('Saleem', 'Hp'), ('Adrash', 'Microsoft')]\n"
     ]
    }
   ],
   "source": [
    "\n",
    "zipped=list(zip(names,company))\n",
    "print(zipped)"
   ]
  },
  {
   "cell_type": "markdown",
   "id": "583a075b-c13f-4486-b2a9-9371abd2d357",
   "metadata": {},
   "source": [
    "# Now this created zip you want to get return as tuple then"
   ]
  },
  {
   "cell_type": "code",
   "execution_count": 8,
   "id": "86d84987-f930-48b0-9505-e600a3d6e6db",
   "metadata": {},
   "outputs": [
    {
     "name": "stdout",
     "output_type": "stream",
     "text": [
      "(('Naveen', 'Dell'), ('Saleem', 'Hp'), ('Adrash', 'Microsoft'))\n"
     ]
    }
   ],
   "source": [
    "zipped=tuple(zip(names,company))\n",
    "print(zipped)"
   ]
  },
  {
   "cell_type": "markdown",
   "id": "53964713-1360-4564-9452-5547a76e2dec",
   "metadata": {},
   "source": [
    "# Now this created zip you want to get return as dictionary then"
   ]
  },
  {
   "cell_type": "code",
   "execution_count": 10,
   "id": "2208cc48-6eb8-4f21-9071-4214ce594459",
   "metadata": {},
   "outputs": [
    {
     "name": "stdout",
     "output_type": "stream",
     "text": [
      "{'Naveen': 'Dell', 'Saleem': 'Hp', 'Adrash': 'Microsoft'}\n"
     ]
    }
   ],
   "source": [
    "zipped=dict(zip(names,company))\n",
    "print(zipped)"
   ]
  },
  {
   "cell_type": "code",
   "execution_count": null,
   "id": "f6f366ee-8c56-452f-b8b9-9ecb972a975e",
   "metadata": {},
   "outputs": [],
   "source": []
  }
 ],
 "metadata": {
  "kernelspec": {
   "display_name": "Python 3 (ipykernel)",
   "language": "python",
   "name": "python3"
  },
  "language_info": {
   "codemirror_mode": {
    "name": "ipython",
    "version": 3
   },
   "file_extension": ".py",
   "mimetype": "text/x-python",
   "name": "python",
   "nbconvert_exporter": "python",
   "pygments_lexer": "ipython3",
   "version": "3.12.4"
  }
 },
 "nbformat": 4,
 "nbformat_minor": 5
}
